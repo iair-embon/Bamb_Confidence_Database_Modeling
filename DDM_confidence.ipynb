{
 "cells": [
  {
   "cell_type": "code",
   "execution_count": 4,
   "metadata": {},
   "outputs": [],
   "source": [
    "import pyddm as ddm\n",
    "from pyddm import Model, Fittable, Fitted, Sample\n",
    "from pyddm.models import Bound, Drift, Noise, Overlay, LossFunction, ICPointSourceCenter\n"
   ]
  },
  {
   "cell_type": "code",
   "execution_count": 8,
   "metadata": {},
   "outputs": [
    {
     "name": "stdout",
     "output_type": "stream",
     "text": [
      "Requirement already satisfied: pyddm in c:\\users\\marcosembon\\appdata\\local\\programs\\python\\python311\\lib\\site-packages (0.8.1)\n",
      "Requirement already satisfied: numpy>=1.9.2 in c:\\users\\marcosembon\\appdata\\local\\programs\\python\\python311\\lib\\site-packages (from pyddm) (1.26.4)\n",
      "Requirement already satisfied: scipy>=0.16 in c:\\users\\marcosembon\\appdata\\local\\programs\\python\\python311\\lib\\site-packages (from pyddm) (1.13.1)\n",
      "Requirement already satisfied: matplotlib in c:\\users\\marcosembon\\appdata\\local\\programs\\python\\python311\\lib\\site-packages (from pyddm) (3.8.4)\n",
      "Requirement already satisfied: paranoid-scientist>=0.2.3 in c:\\users\\marcosembon\\appdata\\local\\programs\\python\\python311\\lib\\site-packages (from pyddm) (0.2.3)\n",
      "Requirement already satisfied: pandas in c:\\users\\marcosembon\\appdata\\local\\programs\\python\\python311\\lib\\site-packages (from pyddm) (2.2.2)\n",
      "Requirement already satisfied: contourpy>=1.0.1 in c:\\users\\marcosembon\\appdata\\local\\programs\\python\\python311\\lib\\site-packages (from matplotlib->pyddm) (1.2.1)\n",
      "Requirement already satisfied: cycler>=0.10 in c:\\users\\marcosembon\\appdata\\local\\programs\\python\\python311\\lib\\site-packages (from matplotlib->pyddm) (0.12.1)\n",
      "Requirement already satisfied: fonttools>=4.22.0 in c:\\users\\marcosembon\\appdata\\local\\programs\\python\\python311\\lib\\site-packages (from matplotlib->pyddm) (4.51.0)\n",
      "Requirement already satisfied: kiwisolver>=1.3.1 in c:\\users\\marcosembon\\appdata\\local\\programs\\python\\python311\\lib\\site-packages (from matplotlib->pyddm) (1.4.5)\n",
      "Requirement already satisfied: packaging>=20.0 in c:\\users\\marcosembon\\appdata\\roaming\\python\\python311\\site-packages (from matplotlib->pyddm) (24.0)\n",
      "Requirement already satisfied: pillow>=8 in c:\\users\\marcosembon\\appdata\\local\\programs\\python\\python311\\lib\\site-packages (from matplotlib->pyddm) (10.3.0)\n",
      "Requirement already satisfied: pyparsing>=2.3.1 in c:\\users\\marcosembon\\appdata\\local\\programs\\python\\python311\\lib\\site-packages (from matplotlib->pyddm) (3.1.2)\n",
      "Requirement already satisfied: python-dateutil>=2.7 in c:\\users\\marcosembon\\appdata\\roaming\\python\\python311\\site-packages (from matplotlib->pyddm) (2.9.0.post0)\n",
      "Requirement already satisfied: pytz>=2020.1 in c:\\users\\marcosembon\\appdata\\local\\programs\\python\\python311\\lib\\site-packages (from pandas->pyddm) (2024.1)\n",
      "Requirement already satisfied: tzdata>=2022.7 in c:\\users\\marcosembon\\appdata\\local\\programs\\python\\python311\\lib\\site-packages (from pandas->pyddm) (2024.1)\n",
      "Requirement already satisfied: six>=1.5 in c:\\users\\marcosembon\\appdata\\roaming\\python\\python311\\site-packages (from python-dateutil>=2.7->matplotlib->pyddm) (1.16.0)\n",
      "Note: you may need to restart the kernel to use updated packages.\n"
     ]
    },
    {
     "name": "stderr",
     "output_type": "stream",
     "text": [
      "\n",
      "[notice] A new release of pip is available: 23.1.2 -> 24.1.2\n",
      "[notice] To update, run: python.exe -m pip install --upgrade pip\n"
     ]
    }
   ],
   "source": [
    "pip install pyddm --upgrade"
   ]
  },
  {
   "cell_type": "code",
   "execution_count": 7,
   "metadata": {},
   "outputs": [
    {
     "ename": "TypeError",
     "evalue": "Model.__init__() got an unexpected keyword argument 'ic'",
     "output_type": "error",
     "traceback": [
      "\u001b[1;31m---------------------------------------------------------------------------\u001b[0m",
      "\u001b[1;31mTypeError\u001b[0m                                 Traceback (most recent call last)",
      "Cell \u001b[1;32mIn[7], line 36\u001b[0m\n\u001b[0;32m     33\u001b[0m         \u001b[38;5;28msuper\u001b[39m()\u001b[38;5;241m.\u001b[39m\u001b[38;5;21m__init__\u001b[39m(drift\u001b[38;5;241m=\u001b[39mdrift, bound\u001b[38;5;241m=\u001b[39mbound, noise\u001b[38;5;241m=\u001b[39mnoise, overlay\u001b[38;5;241m=\u001b[39moverlay, ic\u001b[38;5;241m=\u001b[39mic)\n\u001b[0;32m     35\u001b[0m \u001b[38;5;66;03m# Crear una instancia del modelo\u001b[39;00m\n\u001b[1;32m---> 36\u001b[0m model \u001b[38;5;241m=\u001b[39m \u001b[43mModelTwoAccumulators\u001b[49m\u001b[43m(\u001b[49m\u001b[43mdrift_correct\u001b[49m\u001b[38;5;241;43m=\u001b[39;49m\u001b[38;5;241;43m0.5\u001b[39;49m\u001b[43m,\u001b[49m\u001b[43m \u001b[49m\u001b[43mdrift_incorrect\u001b[49m\u001b[38;5;241;43m=\u001b[39;49m\u001b[38;5;241;43m0.3\u001b[39;49m\u001b[43m,\u001b[49m\u001b[43m \u001b[49m\u001b[43mbound\u001b[49m\u001b[38;5;241;43m=\u001b[39;49m\u001b[38;5;241;43m1.0\u001b[39;49m\u001b[43m,\u001b[49m\u001b[43m \u001b[49m\u001b[43mnoise\u001b[49m\u001b[38;5;241;43m=\u001b[39;49m\u001b[38;5;241;43m1.0\u001b[39;49m\u001b[43m)\u001b[49m\n\u001b[0;32m     38\u001b[0m \u001b[38;5;66;03m# Simular datos\u001b[39;00m\n\u001b[0;32m     39\u001b[0m samples \u001b[38;5;241m=\u001b[39m model\u001b[38;5;241m.\u001b[39msimulate_trial(n\u001b[38;5;241m=\u001b[39m\u001b[38;5;241m1000\u001b[39m)\n",
      "Cell \u001b[1;32mIn[7], line 33\u001b[0m, in \u001b[0;36mModelTwoAccumulators.__init__\u001b[1;34m(self, drift_correct, drift_incorrect, bound, noise)\u001b[0m\n\u001b[0;32m     31\u001b[0m overlay \u001b[38;5;241m=\u001b[39m ddm\u001b[38;5;241m.\u001b[39mmodels\u001b[38;5;241m.\u001b[39mOverlayNonDecision(nondectime\u001b[38;5;241m=\u001b[39m\u001b[38;5;241m0.3\u001b[39m)\n\u001b[0;32m     32\u001b[0m ic \u001b[38;5;241m=\u001b[39m ICPointSourceCenter()\n\u001b[1;32m---> 33\u001b[0m \u001b[38;5;28;43msuper\u001b[39;49m\u001b[43m(\u001b[49m\u001b[43m)\u001b[49m\u001b[38;5;241;43m.\u001b[39;49m\u001b[38;5;21;43m__init__\u001b[39;49m\u001b[43m(\u001b[49m\u001b[43mdrift\u001b[49m\u001b[38;5;241;43m=\u001b[39;49m\u001b[43mdrift\u001b[49m\u001b[43m,\u001b[49m\u001b[43m \u001b[49m\u001b[43mbound\u001b[49m\u001b[38;5;241;43m=\u001b[39;49m\u001b[43mbound\u001b[49m\u001b[43m,\u001b[49m\u001b[43m \u001b[49m\u001b[43mnoise\u001b[49m\u001b[38;5;241;43m=\u001b[39;49m\u001b[43mnoise\u001b[49m\u001b[43m,\u001b[49m\u001b[43m \u001b[49m\u001b[43moverlay\u001b[49m\u001b[38;5;241;43m=\u001b[39;49m\u001b[43moverlay\u001b[49m\u001b[43m,\u001b[49m\u001b[43m \u001b[49m\u001b[43mic\u001b[49m\u001b[38;5;241;43m=\u001b[39;49m\u001b[43mic\u001b[49m\u001b[43m)\u001b[49m\n",
      "\u001b[1;31mTypeError\u001b[0m: Model.__init__() got an unexpected keyword argument 'ic'"
     ]
    }
   ],
   "source": [
    "# Definir el drift combinado para respuestas correctas e incorrectas\n",
    "class DriftCombined(ddm.models.Drift):\n",
    "    name = \"Combined drift for correct and incorrect responses\"\n",
    "    required_parameters = [\"drift_correct\", \"drift_incorrect\"]\n",
    "    \n",
    "    def get_drift(self, conditions, **kwargs):\n",
    "        return self.drift_correct - self.drift_incorrect\n",
    "\n",
    "# Definir los límites\n",
    "class BoundFixed(ddm.models.Bound):\n",
    "    name = \"Fixed boundary\"\n",
    "    required_parameters = [\"B\"]\n",
    "    \n",
    "    def get_bound(self, t, conditions, **kwargs):\n",
    "        return self.B\n",
    "\n",
    "# Definir el ruido\n",
    "class NoiseConstant(ddm.models.Noise):\n",
    "    name = \"Constant noise\"\n",
    "    required_parameters = [\"noise\"]\n",
    "    \n",
    "    def get_noise(self, t, conditions, **kwargs):\n",
    "        return self.noise\n",
    "\n",
    "# Definir el modelo con dos acumuladores\n",
    "class ModelTwoAccumulators(ddm.Model):\n",
    "    def __init__(self, drift_correct, drift_incorrect, bound, noise):\n",
    "        drift = DriftCombined(drift_correct=drift_correct, drift_incorrect=drift_incorrect)\n",
    "        bound = BoundFixed(B=bound)\n",
    "        noise = NoiseConstant(noise=noise)\n",
    "        overlay = ddm.models.OverlayNonDecision(nondectime=0.3)\n",
    "        ic = ICPointSourceCenter()\n",
    "        super().__init__(drift=drift, bound=bound, noise=noise, overlay=overlay, ic=ic)\n",
    "\n",
    "# Crear una instancia del modelo\n",
    "model = ModelTwoAccumulators(drift_correct=0.5, drift_incorrect=0.3, bound=1.0, noise=1.0)\n",
    "\n",
    "# Simular datos\n",
    "samples = model.simulate_trial(n=1000)\n",
    "\n",
    "# Calcular confianza\n",
    "samples[\"confidence\"] = samples.corr * (samples.rt - 0.3) / samples.rt\n",
    "\n",
    "# Mostrar algunos resultados\n",
    "print(samples[:10])\n",
    "\n"
   ]
  }
 ],
 "metadata": {
  "kernelspec": {
   "display_name": "Python 3",
   "language": "python",
   "name": "python3"
  },
  "language_info": {
   "codemirror_mode": {
    "name": "ipython",
    "version": 3
   },
   "file_extension": ".py",
   "mimetype": "text/x-python",
   "name": "python",
   "nbconvert_exporter": "python",
   "pygments_lexer": "ipython3",
   "version": "3.11.4"
  }
 },
 "nbformat": 4,
 "nbformat_minor": 2
}
