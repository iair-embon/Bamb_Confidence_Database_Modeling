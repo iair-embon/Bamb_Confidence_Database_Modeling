{
 "cells": [
  {
   "cell_type": "markdown",
   "metadata": {},
   "source": [
    "### Flemin's function of second order model in python"
   ]
  },
  {
   "cell_type": "code",
   "execution_count": 3,
   "metadata": {},
   "outputs": [],
   "source": [
    "import numpy as np\n",
    "from scipy.stats import multivariate_normal, norm\n",
    "\n",
    "def compute_meta_conf(xp, a, sigma_act, sigma_conf, rho):\n",
    "\n",
    "    dhat = np.array([-1, 1])\n",
    "    mu_x_xp_dhat = np.zeros((2, len(xp)))\n",
    "    var_x_xp_dhat = np.zeros(len(xp))\n",
    "    rho_vec = np.full(len(xp), rho)\n",
    "    sigA_vec = np.full(len(xp), sigma_act)\n",
    "    sigP_vec = np.full(len(xp), sigma_conf)\n",
    "    \n",
    "    Tol = 10e-4\n",
    "\n",
    "    for dhati in range(2):\n",
    "        dhat_vec = np.full(len(xp), dhat[dhati])\n",
    "        \n",
    "        mu_x_xp_dhat[dhati, :] = dhat_vec + (sigA_vec / sigP_vec) * rho_vec * (xp - dhat_vec)\n",
    "        var_x_xp_dhat = (1 - rho_vec**2) * sigA_vec**2\n",
    "        \n",
    "        if a == 1:\n",
    "            p_a_dhat_xp = 1 - norm.cdf(0, mu_x_xp_dhat[dhati, :], np.sqrt(var_x_xp_dhat))\n",
    "        else:\n",
    "            p_a_dhat_xp = norm.cdf(0, mu_x_xp_dhat[dhati, :], np.sqrt(var_x_xp_dhat))\n",
    "        \n",
    "        lik_d = norm.pdf(xp, dhat_vec, sigP_vec)\n",
    "        \n",
    "        if dhati == 0:\n",
    "            p_a_dhat_xp_full = p_a_dhat_xp\n",
    "            lik_d_full = lik_d\n",
    "        else:\n",
    "            p_a_dhat_xp_full = np.vstack((p_a_dhat_xp_full, p_a_dhat_xp))\n",
    "            lik_d_full = np.vstack((lik_d_full, lik_d))\n",
    "    \n",
    "    # manage probability\n",
    "    p_a_dhat_xp_full = np.clip(p_a_dhat_xp_full, Tol, None)\n",
    "    lik_d_full = np.clip(lik_d_full, Tol, None)\n",
    "    \n",
    "    lik_d_full = lik_d_full / np.sum(lik_d_full, axis=0, keepdims=True)\n",
    "    p_dhat_xp_a = p_a_dhat_xp_full * lik_d_full\n",
    "    p_dhat_xp_a = p_dhat_xp_a / np.sum(p_dhat_xp_a, axis=0, keepdims=True)\n",
    "    \n",
    "    # Conf = p(a=d)\n",
    "    if a == 1:\n",
    "        conf = p_dhat_xp_a[1, :]\n",
    "    else:\n",
    "        conf = p_dhat_xp_a[0, :]\n",
    "    \n",
    "    return conf\n"
   ]
  },
  {
   "cell_type": "markdown",
   "metadata": {},
   "source": [
    "### Simulation of 10 trials"
   ]
  },
  {
   "cell_type": "code",
   "execution_count": 8,
   "metadata": {},
   "outputs": [
    {
     "name": "stdout",
     "output_type": "stream",
     "text": [
      "(d): [[-1. -1. -1. -1.  1. -1.  1.  1. -1. -1.]\n",
      " [ 1.  1.  1.  1.  1. -1.  1. -1. -1. -1.]\n",
      " [ 1.  1. -1.  1.  1. -1. -1. -1.  1.  1.]\n",
      " [-1. -1. -1.  1. -1.  1. -1.  1.  1.  1.]\n",
      " [-1. -1. -1.  1. -1.  1. -1.  1.  1. -1.]\n",
      " [-1. -1.  1. -1. -1. -1.  1. -1. -1.  1.]\n",
      " [-1. -1. -1. -1. -1. -1.  1. -1. -1. -1.]]\n",
      "(a): [[ 1.  1.  1. -1. -1.  1.  1.  1. -1. -1.]\n",
      " [ 1. -1. -1.  1. -1. -1.  1. -1.  1.  1.]\n",
      " [-1. -1.  1.  1.  1.  1.  1.  1.  1.  1.]\n",
      " [ 1. -1.  1.  1. -1. -1.  1.  1.  1. -1.]\n",
      " [ 1.  1. -1. -1.  1.  1. -1. -1.  1. -1.]\n",
      " [-1. -1.  1.  1. -1.  1.  1. -1. -1.  1.]\n",
      " [-1. -1. -1. -1. -1. -1.  1.  1.  1. -1.]]\n",
      "Second Order Confidences: [[0.75697275 0.93033164 0.91190662 0.86495219 0.51733263 0.9667263\n",
      "  0.97133247 0.50774461 0.91376084 0.71269183]\n",
      " [0.56334765 0.94587022 0.83282217 0.77840549 0.69181068 0.98870921\n",
      "  0.94473636 0.93095566 0.71094468 0.93037608]\n",
      " [0.41986993 0.97846901 0.6975973  0.98836575 0.97386285 0.94279524\n",
      "  0.84708618 0.86240679 0.3086348  0.59248011]\n",
      " [0.49344233 0.94224832 0.64834801 0.89449697 0.33467387 0.8280413\n",
      "  0.89774747 0.94978364 0.77813184 0.64078627]\n",
      " [0.94422238 0.78940694 0.66233004 0.69861866 0.52079978 0.91357458\n",
      "  0.34571764 0.97280784 0.92778599 0.82561127]\n",
      " [0.32087308 0.66296109 0.87610229 0.4032605  0.54197368 0.5701911\n",
      "  0.83182025 0.94442136 0.97337859 0.86475911]\n",
      " [0.88183544 0.891009   0.95702375 0.86009495 0.96614446 0.92563212\n",
      "  0.95738057 0.57525651 0.34305713 0.69363126]]\n"
     ]
    }
   ],
   "source": [
    "theta = [0, 0.032, 0.064, 0.128, 0.256, 0.512, 1]\n",
    "sigmaAct = 1\n",
    "sigmaConf = 1\n",
    "rho = 0.5\n",
    "bigSigma = np.array([[sigmaAct**2, rho * sigmaAct * sigmaConf], [rho * sigmaAct * sigmaConf, sigmaConf**2]])\n",
    "\n",
    "N = 10  # N trials\n",
    "\n",
    "xa = np.empty((len(theta), N))\n",
    "xp = np.empty((len(theta), N))\n",
    "d = np.empty((len(theta), N))\n",
    "a = np.empty((len(theta), N))\n",
    "secondOrder_mean_cor = np.empty((len(theta), N))\n",
    "\n",
    "for s in range(len(theta)):\n",
    "    for i in range(N):\n",
    "        d[s, i] = 1 if np.random.rand() > 0.5 else -1\n",
    "        \n",
    "        r = multivariate_normal.rvs(mean=[d[s, i] * theta[s], d[s, i] * theta[s]], cov=bigSigma)\n",
    "        xa[s, i] = r[0]\n",
    "        xp[s, i] = r[1]\n",
    "        \n",
    "        if xa[s, i] > 0:\n",
    "            a[s, i] = 1\n",
    "            flip_a = 1\n",
    "        else:\n",
    "            a[s, i] = -1\n",
    "            flip_a = 0\n",
    "        \n",
    "        secondOrder_mean_cor[s, i] = compute_meta_conf(np.array([xp[s, i]]), flip_a, sigmaAct, sigmaConf, rho)[0]\n",
    "\n",
    "print(\"(d):\", d)\n",
    "print(\"(a):\", a)\n",
    "print(\"Second Order Confidences:\", secondOrder_mean_cor)"
   ]
  }
 ],
 "metadata": {
  "kernelspec": {
   "display_name": "Python 3",
   "language": "python",
   "name": "python3"
  },
  "language_info": {
   "codemirror_mode": {
    "name": "ipython",
    "version": 3
   },
   "file_extension": ".py",
   "mimetype": "text/x-python",
   "name": "python",
   "nbconvert_exporter": "python",
   "pygments_lexer": "ipython3",
   "version": "3.11.4"
  }
 },
 "nbformat": 4,
 "nbformat_minor": 2
}
