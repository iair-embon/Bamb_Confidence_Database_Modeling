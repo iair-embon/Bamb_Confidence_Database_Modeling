{
 "cells": [
  {
   "cell_type": "markdown",
   "metadata": {},
   "source": []
  },
  {
   "cell_type": "code",
   "execution_count": 4,
   "metadata": {},
   "outputs": [],
   "source": [
    "import pandas as pd\n",
    "import statsmodels.api as sm\n",
    "from statsmodels.regression.mixed_linear_model import MixedLM\n"
   ]
  },
  {
   "cell_type": "code",
   "execution_count": 2,
   "metadata": {},
   "outputs": [],
   "source": [
    "df = pd.read_csv('data_Mazancieux_2018.csv')"
   ]
  },
  {
   "cell_type": "code",
   "execution_count": 3,
   "metadata": {},
   "outputs": [
    {
     "name": "stdout",
     "output_type": "stream",
     "text": [
      "<class 'pandas.core.frame.DataFrame'>\n",
      "RangeIndex: 28960 entries, 0 to 28959\n",
      "Data columns (total 7 columns):\n",
      " #   Column         Non-Null Count  Dtype  \n",
      "---  ------         --------------  -----  \n",
      " 0   Subj_idx       28960 non-null  int64  \n",
      " 1   Stimulus       28960 non-null  int64  \n",
      " 2   Response       28960 non-null  int64  \n",
      " 3   Confidence     28960 non-null  int64  \n",
      " 4   RT_decision    28960 non-null  float64\n",
      " 5   RT_confidence  28960 non-null  float64\n",
      " 6   Task           28960 non-null  object \n",
      "dtypes: float64(2), int64(4), object(1)\n",
      "memory usage: 1.5+ MB\n"
     ]
    }
   ],
   "source": [
    "df.info()"
   ]
  },
  {
   "cell_type": "markdown",
   "metadata": {},
   "source": [
    "## Run a mixed linear regression model with a random intercept per participant"
   ]
  },
  {
   "cell_type": "code",
   "execution_count": 26,
   "metadata": {},
   "outputs": [
    {
     "name": "stdout",
     "output_type": "stream",
     "text": [
      "Resultados para Task = VP - Modelo mixto con lag 1\n",
      "             Mixed Linear Model Regression Results\n",
      "===============================================================\n",
      "Model:            MixedLM Dependent Variable: Confidence_transf\n",
      "No. Observations: 7188    Method:             REML             \n",
      "No. Groups:       181     Scale:              0.0541           \n",
      "Min. group size:  39      Log-Likelihood:     12.2044          \n",
      "Max. group size:  40      Converged:          Yes              \n",
      "Mean group size:  39.7                                         \n",
      "----------------------------------------------------------------\n",
      "                  Coef.  Std.Err.    z     P>|z|  [0.025  0.975]\n",
      "----------------------------------------------------------------\n",
      "const             0.432     0.013  32.197  0.000   0.405   0.458\n",
      "Confidence_lag_1  0.200     0.012  17.023  0.000   0.177   0.223\n",
      "Group Var         0.024     0.012                               \n",
      "===============================================================\n",
      "\n",
      "\n",
      "\n",
      "Resultados para Task = EF - Modelo mixto con lag 1\n",
      "             Mixed Linear Model Regression Results\n",
      "===============================================================\n",
      "Model:            MixedLM Dependent Variable: Confidence_transf\n",
      "No. Observations: 7197    Method:             REML             \n",
      "No. Groups:       181     Scale:              0.0744           \n",
      "Min. group size:  39      Log-Likelihood:     -1069.2351       \n",
      "Max. group size:  40      Converged:          Yes              \n",
      "Mean group size:  39.8                                         \n",
      "----------------------------------------------------------------\n",
      "                  Coef.  Std.Err.    z     P>|z|  [0.025  0.975]\n",
      "----------------------------------------------------------------\n",
      "const             0.751     0.014  55.346  0.000   0.725   0.778\n",
      "Confidence_lag_1  0.064     0.012   5.339  0.000   0.040   0.087\n",
      "Group Var         0.015     0.007                               \n",
      "===============================================================\n",
      "\n",
      "\n",
      "\n",
      "Resultados para Task = SM - Modelo mixto con lag 1\n",
      "             Mixed Linear Model Regression Results\n",
      "===============================================================\n",
      "Model:            MixedLM Dependent Variable: Confidence_transf\n",
      "No. Observations: 7202    Method:             REML             \n",
      "No. Groups:       181     Scale:              0.1196           \n",
      "Min. group size:  39      Log-Likelihood:     -2727.7136       \n",
      "Max. group size:  40      Converged:          Yes              \n",
      "Mean group size:  39.8                                         \n",
      "----------------------------------------------------------------\n",
      "                  Coef.  Std.Err.    z     P>|z|  [0.025  0.975]\n",
      "----------------------------------------------------------------\n",
      "const             0.541     0.012  46.097  0.000   0.518   0.564\n",
      "Confidence_lag_1  0.077     0.012   6.343  0.000   0.053   0.101\n",
      "Group Var         0.013     0.005                               \n",
      "===============================================================\n",
      "\n",
      "\n",
      "\n",
      "Resultados para Task = EM - Modelo mixto con lag 1\n",
      "             Mixed Linear Model Regression Results\n",
      "===============================================================\n",
      "Model:            MixedLM Dependent Variable: Confidence_transf\n",
      "No. Observations: 7192    Method:             REML             \n",
      "No. Groups:       181     Scale:              0.1043           \n",
      "Min. group size:  39      Log-Likelihood:     -2296.7171       \n",
      "Max. group size:  40      Converged:          Yes              \n",
      "Mean group size:  39.7                                         \n",
      "----------------------------------------------------------------\n",
      "                  Coef.  Std.Err.    z     P>|z|  [0.025  0.975]\n",
      "----------------------------------------------------------------\n",
      "const             0.606     0.015  41.211  0.000   0.577   0.635\n",
      "Confidence_lag_1  0.068     0.012   5.615  0.000   0.044   0.092\n",
      "Group Var         0.025     0.009                               \n",
      "===============================================================\n",
      "\n",
      "\n",
      "\n"
     ]
    }
   ],
   "source": [
    "from statsmodels.regression.mixed_linear_model import MixedLM\n",
    "import statsmodels.api as sm\n",
    "import numpy as np\n",
    "\n",
    "df_copy = df.copy()\n",
    "\n",
    "df_copy['Confidence_transf'] = df_copy['Confidence'] / 10\n",
    "#df_copy['Confidence_transf'] = df_copy.groupby(['Subj_idx', 'Task'])['Confidence_transf'].transform(lambda x: (x - x.mean()) / x.std())\n",
    "\n",
    "# Crear solo el lag 1\n",
    "df_copy['Confidence_lag_1'] = df_copy.groupby('Subj_idx')['Confidence_transf'].shift(1)\n",
    "\n",
    "# Filtrar las tareas únicas\n",
    "tasks = df_copy['Task'].unique()\n",
    "\n",
    "results = {}\n",
    "\n",
    "for task in tasks:\n",
    "    task_df = df_copy[df_copy['Task'] == task].dropna(subset=['Confidence_lag_1'])\n",
    "    \n",
    "    y = task_df['Confidence_transf']\n",
    "    \n",
    "    X = task_df[['Confidence_lag_1']]\n",
    "    X = sm.add_constant(X)\n",
    "    \n",
    "    model = MixedLM(y, X, groups=task_df['Subj_idx'])\n",
    "    \n",
    "    result = model.fit()\n",
    "    \n",
    "    results[task] = result.summary()\n",
    "\n",
    "for task, result in results.items():\n",
    "    print(f\"Resultados para Task = {task} - Modelo mixto con lag 1\")\n",
    "    print(result)\n",
    "    print(\"\\n\")\n"
   ]
  }
 ],
 "metadata": {
  "kernelspec": {
   "display_name": "Python 3",
   "language": "python",
   "name": "python3"
  },
  "language_info": {
   "codemirror_mode": {
    "name": "ipython",
    "version": 3
   },
   "file_extension": ".py",
   "mimetype": "text/x-python",
   "name": "python",
   "nbconvert_exporter": "python",
   "pygments_lexer": "ipython3",
   "version": "3.11.4"
  }
 },
 "nbformat": 4,
 "nbformat_minor": 2
}
